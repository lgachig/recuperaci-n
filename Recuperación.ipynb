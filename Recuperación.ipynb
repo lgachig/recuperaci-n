{
  "nbformat": 4,
  "nbformat_minor": 0,
  "metadata": {
    "colab": {
      "provenance": [],
      "authorship_tag": "ABX9TyObe5FpIXQs50EGAFdSIGYw",
      "include_colab_link": true
    },
    "kernelspec": {
      "name": "python3",
      "display_name": "Python 3"
    },
    "language_info": {
      "name": "python"
    }
  },
  "cells": [
    {
      "cell_type": "markdown",
      "metadata": {
        "id": "view-in-github",
        "colab_type": "text"
      },
      "source": [
        "<a href=\"https://colab.research.google.com/github/lgachig/recuperaci-n/blob/main/Recuperaci%C3%B3n.ipynb\" target=\"_parent\"><img src=\"https://colab.research.google.com/assets/colab-badge.svg\" alt=\"Open In Colab\"/></a>"
      ]
    },
    {
      "cell_type": "code",
      "execution_count": 4,
      "metadata": {
        "id": "SFBw5E4vWo1T"
      },
      "outputs": [],
      "source": [
        "import pandas as pd\n",
        "import requests\n",
        "from bs4 import BeautifulSoup\n",
        "from collections import Counter\n",
        "import re"
      ]
    },
    {
      "cell_type": "code",
      "source": [
        "url = \"https://en.wikipedia.org/wiki/List_of_Latin_phrases_(full)\""
      ],
      "metadata": {
        "id": "FH48vOEdYVhL"
      },
      "execution_count": 5,
      "outputs": []
    },
    {
      "cell_type": "code",
      "source": [
        "reponse = requests.get(url)\n",
        "soup = BeautifulSoup(reponse.text, \"html.parser\")\n",
        "tablas = soup.find_all('table')"
      ],
      "metadata": {
        "id": "VrSJJkoKYgim"
      },
      "execution_count": 6,
      "outputs": []
    },
    {
      "cell_type": "code",
      "source": [
        "todas_las_filas = []\n",
        "\n",
        "for tabla in tablas:\n",
        "    filas = []\n",
        "    for tr in tabla.find_all('tr'):\n",
        "        celdas = []\n",
        "        for th in tr.find_all('th'):\n",
        "            colspan = int(th.get('colspan', 1))\n",
        "            texto = th.get_text(strip=True)\n",
        "            celdas.extend([texto] * colspan)\n",
        "        for td in tr.find_all('td'):\n",
        "            colspan = int(td.get('colspan', 1))\n",
        "            texto = td.get_text(strip=True)\n",
        "            celdas.extend([texto] * colspan)\n",
        "        if celdas:\n",
        "            filas.append(celdas)\n",
        "    if len(filas) > 1:\n",
        "        encabezado = filas[0]\n",
        "        for fila in filas[1:]:\n",
        "            if len(fila) == len(encabezado):\n",
        "                todas_las_filas.append(dict(zip(encabezado, fila)))\n",
        "\n",
        "df= pd.DataFrame(todas_las_filas)"
      ],
      "metadata": {
        "id": "414vbu3AY_lA"
      },
      "execution_count": 7,
      "outputs": []
    },
    {
      "cell_type": "code",
      "source": [
        "df.to_excel(\"latin_phrases.xlsx\", index=False)"
      ],
      "metadata": {
        "id": "8ElBocDOZwH7"
      },
      "execution_count": 12,
      "outputs": []
    },
    {
      "cell_type": "code",
      "source": [
        "!pip install cltk"
      ],
      "metadata": {
        "collapsed": true,
        "colab": {
          "base_uri": "https://localhost:8080/"
        },
        "id": "kQEpguy_gf2x",
        "outputId": "d83c0899-9ee8-4a9a-8993-8b979f810179"
      },
      "execution_count": 1,
      "outputs": [
        {
          "output_type": "stream",
          "name": "stdout",
          "text": [
            "Requirement already satisfied: cltk in /usr/local/lib/python3.11/dist-packages (1.5.0)\n",
            "Requirement already satisfied: PyYAML<7.0.0,>=6.0.0 in /usr/local/lib/python3.11/dist-packages (from cltk) (6.0.2)\n",
            "Requirement already satisfied: boltons<22.0.0,>=21.0.0 in /usr/local/lib/python3.11/dist-packages (from cltk) (21.0.0)\n",
            "Requirement already satisfied: gensim<5.0.0,>=4.3.2 in /usr/local/lib/python3.11/dist-packages (from cltk) (4.3.3)\n",
            "Requirement already satisfied: gitpython<4.0,>=3.0 in /usr/local/lib/python3.11/dist-packages (from cltk) (3.1.44)\n",
            "Requirement already satisfied: greek-accentuation<2.0.0,>=1.2.0 in /usr/local/lib/python3.11/dist-packages (from cltk) (1.2.0)\n",
            "Requirement already satisfied: nltk<4.0,>=3.7 in /usr/local/lib/python3.11/dist-packages (from cltk) (3.9.1)\n",
            "Requirement already satisfied: rapidfuzz<4.0.0,>=3.4.0 in /usr/local/lib/python3.11/dist-packages (from cltk) (3.13.0)\n",
            "Requirement already satisfied: requests<3.0.0,>=2.22.0 in /usr/local/lib/python3.11/dist-packages (from cltk) (2.32.3)\n",
            "Requirement already satisfied: scikit-learn<2.0.0,>=1.0.2 in /usr/local/lib/python3.11/dist-packages (from cltk) (1.6.1)\n",
            "Requirement already satisfied: scipy<1.13.0 in /usr/local/lib/python3.11/dist-packages (from cltk) (1.12.0)\n",
            "Requirement already satisfied: spacy==3.7.5 in /usr/local/lib/python3.11/dist-packages (from cltk) (3.7.5)\n",
            "Requirement already satisfied: stanza<2.0.0,>=1.10.1 in /usr/local/lib/python3.11/dist-packages (from cltk) (1.10.1)\n",
            "Requirement already satisfied: torch!=2.0.1,!=2.1.0,>=2.0.0 in /usr/local/lib/python3.11/dist-packages (from cltk) (2.6.0+cu124)\n",
            "Requirement already satisfied: tqdm<5.0.0,>=4.41.1 in /usr/local/lib/python3.11/dist-packages (from cltk) (4.67.1)\n",
            "Requirement already satisfied: spacy-legacy<3.1.0,>=3.0.11 in /usr/local/lib/python3.11/dist-packages (from spacy==3.7.5->cltk) (3.0.12)\n",
            "Requirement already satisfied: spacy-loggers<2.0.0,>=1.0.0 in /usr/local/lib/python3.11/dist-packages (from spacy==3.7.5->cltk) (1.0.5)\n",
            "Requirement already satisfied: murmurhash<1.1.0,>=0.28.0 in /usr/local/lib/python3.11/dist-packages (from spacy==3.7.5->cltk) (1.0.13)\n",
            "Requirement already satisfied: cymem<2.1.0,>=2.0.2 in /usr/local/lib/python3.11/dist-packages (from spacy==3.7.5->cltk) (2.0.11)\n",
            "Requirement already satisfied: preshed<3.1.0,>=3.0.2 in /usr/local/lib/python3.11/dist-packages (from spacy==3.7.5->cltk) (3.0.10)\n",
            "Requirement already satisfied: thinc<8.3.0,>=8.2.2 in /usr/local/lib/python3.11/dist-packages (from spacy==3.7.5->cltk) (8.2.5)\n",
            "Requirement already satisfied: wasabi<1.2.0,>=0.9.1 in /usr/local/lib/python3.11/dist-packages (from spacy==3.7.5->cltk) (1.1.3)\n",
            "Requirement already satisfied: srsly<3.0.0,>=2.4.3 in /usr/local/lib/python3.11/dist-packages (from spacy==3.7.5->cltk) (2.5.1)\n",
            "Requirement already satisfied: catalogue<2.1.0,>=2.0.6 in /usr/local/lib/python3.11/dist-packages (from spacy==3.7.5->cltk) (2.0.10)\n",
            "Requirement already satisfied: weasel<0.5.0,>=0.1.0 in /usr/local/lib/python3.11/dist-packages (from spacy==3.7.5->cltk) (0.4.1)\n",
            "Requirement already satisfied: typer<1.0.0,>=0.3.0 in /usr/local/lib/python3.11/dist-packages (from spacy==3.7.5->cltk) (0.16.0)\n",
            "Requirement already satisfied: pydantic!=1.8,!=1.8.1,<3.0.0,>=1.7.4 in /usr/local/lib/python3.11/dist-packages (from spacy==3.7.5->cltk) (2.11.5)\n",
            "Requirement already satisfied: jinja2 in /usr/local/lib/python3.11/dist-packages (from spacy==3.7.5->cltk) (3.1.6)\n",
            "Requirement already satisfied: setuptools in /usr/local/lib/python3.11/dist-packages (from spacy==3.7.5->cltk) (75.2.0)\n",
            "Requirement already satisfied: packaging>=20.0 in /usr/local/lib/python3.11/dist-packages (from spacy==3.7.5->cltk) (24.2)\n",
            "Requirement already satisfied: langcodes<4.0.0,>=3.2.0 in /usr/local/lib/python3.11/dist-packages (from spacy==3.7.5->cltk) (3.5.0)\n",
            "Requirement already satisfied: numpy>=1.19.0 in /usr/local/lib/python3.11/dist-packages (from spacy==3.7.5->cltk) (1.26.4)\n",
            "Requirement already satisfied: smart-open>=1.8.1 in /usr/local/lib/python3.11/dist-packages (from gensim<5.0.0,>=4.3.2->cltk) (7.1.0)\n",
            "Requirement already satisfied: gitdb<5,>=4.0.1 in /usr/local/lib/python3.11/dist-packages (from gitpython<4.0,>=3.0->cltk) (4.0.12)\n",
            "Requirement already satisfied: click in /usr/local/lib/python3.11/dist-packages (from nltk<4.0,>=3.7->cltk) (8.2.1)\n",
            "Requirement already satisfied: joblib in /usr/local/lib/python3.11/dist-packages (from nltk<4.0,>=3.7->cltk) (1.5.1)\n",
            "Requirement already satisfied: regex>=2021.8.3 in /usr/local/lib/python3.11/dist-packages (from nltk<4.0,>=3.7->cltk) (2024.11.6)\n",
            "Requirement already satisfied: charset-normalizer<4,>=2 in /usr/local/lib/python3.11/dist-packages (from requests<3.0.0,>=2.22.0->cltk) (3.4.2)\n",
            "Requirement already satisfied: idna<4,>=2.5 in /usr/local/lib/python3.11/dist-packages (from requests<3.0.0,>=2.22.0->cltk) (3.10)\n",
            "Requirement already satisfied: urllib3<3,>=1.21.1 in /usr/local/lib/python3.11/dist-packages (from requests<3.0.0,>=2.22.0->cltk) (2.4.0)\n",
            "Requirement already satisfied: certifi>=2017.4.17 in /usr/local/lib/python3.11/dist-packages (from requests<3.0.0,>=2.22.0->cltk) (2025.4.26)\n",
            "Requirement already satisfied: threadpoolctl>=3.1.0 in /usr/local/lib/python3.11/dist-packages (from scikit-learn<2.0.0,>=1.0.2->cltk) (3.6.0)\n",
            "Requirement already satisfied: emoji in /usr/local/lib/python3.11/dist-packages (from stanza<2.0.0,>=1.10.1->cltk) (2.14.1)\n",
            "Requirement already satisfied: protobuf>=3.15.0 in /usr/local/lib/python3.11/dist-packages (from stanza<2.0.0,>=1.10.1->cltk) (5.29.5)\n",
            "Requirement already satisfied: networkx in /usr/local/lib/python3.11/dist-packages (from stanza<2.0.0,>=1.10.1->cltk) (3.5)\n",
            "Requirement already satisfied: filelock in /usr/local/lib/python3.11/dist-packages (from torch!=2.0.1,!=2.1.0,>=2.0.0->cltk) (3.18.0)\n",
            "Requirement already satisfied: typing-extensions>=4.10.0 in /usr/local/lib/python3.11/dist-packages (from torch!=2.0.1,!=2.1.0,>=2.0.0->cltk) (4.13.2)\n",
            "Requirement already satisfied: fsspec in /usr/local/lib/python3.11/dist-packages (from torch!=2.0.1,!=2.1.0,>=2.0.0->cltk) (2025.3.2)\n",
            "Requirement already satisfied: nvidia-cuda-nvrtc-cu12==12.4.127 in /usr/local/lib/python3.11/dist-packages (from torch!=2.0.1,!=2.1.0,>=2.0.0->cltk) (12.4.127)\n",
            "Requirement already satisfied: nvidia-cuda-runtime-cu12==12.4.127 in /usr/local/lib/python3.11/dist-packages (from torch!=2.0.1,!=2.1.0,>=2.0.0->cltk) (12.4.127)\n",
            "Requirement already satisfied: nvidia-cuda-cupti-cu12==12.4.127 in /usr/local/lib/python3.11/dist-packages (from torch!=2.0.1,!=2.1.0,>=2.0.0->cltk) (12.4.127)\n",
            "Requirement already satisfied: nvidia-cudnn-cu12==9.1.0.70 in /usr/local/lib/python3.11/dist-packages (from torch!=2.0.1,!=2.1.0,>=2.0.0->cltk) (9.1.0.70)\n",
            "Requirement already satisfied: nvidia-cublas-cu12==12.4.5.8 in /usr/local/lib/python3.11/dist-packages (from torch!=2.0.1,!=2.1.0,>=2.0.0->cltk) (12.4.5.8)\n",
            "Requirement already satisfied: nvidia-cufft-cu12==11.2.1.3 in /usr/local/lib/python3.11/dist-packages (from torch!=2.0.1,!=2.1.0,>=2.0.0->cltk) (11.2.1.3)\n",
            "Requirement already satisfied: nvidia-curand-cu12==10.3.5.147 in /usr/local/lib/python3.11/dist-packages (from torch!=2.0.1,!=2.1.0,>=2.0.0->cltk) (10.3.5.147)\n",
            "Requirement already satisfied: nvidia-cusolver-cu12==11.6.1.9 in /usr/local/lib/python3.11/dist-packages (from torch!=2.0.1,!=2.1.0,>=2.0.0->cltk) (11.6.1.9)\n",
            "Requirement already satisfied: nvidia-cusparse-cu12==12.3.1.170 in /usr/local/lib/python3.11/dist-packages (from torch!=2.0.1,!=2.1.0,>=2.0.0->cltk) (12.3.1.170)\n",
            "Requirement already satisfied: nvidia-cusparselt-cu12==0.6.2 in /usr/local/lib/python3.11/dist-packages (from torch!=2.0.1,!=2.1.0,>=2.0.0->cltk) (0.6.2)\n",
            "Requirement already satisfied: nvidia-nccl-cu12==2.21.5 in /usr/local/lib/python3.11/dist-packages (from torch!=2.0.1,!=2.1.0,>=2.0.0->cltk) (2.21.5)\n",
            "Requirement already satisfied: nvidia-nvtx-cu12==12.4.127 in /usr/local/lib/python3.11/dist-packages (from torch!=2.0.1,!=2.1.0,>=2.0.0->cltk) (12.4.127)\n",
            "Requirement already satisfied: nvidia-nvjitlink-cu12==12.4.127 in /usr/local/lib/python3.11/dist-packages (from torch!=2.0.1,!=2.1.0,>=2.0.0->cltk) (12.4.127)\n",
            "Requirement already satisfied: triton==3.2.0 in /usr/local/lib/python3.11/dist-packages (from torch!=2.0.1,!=2.1.0,>=2.0.0->cltk) (3.2.0)\n",
            "Requirement already satisfied: sympy==1.13.1 in /usr/local/lib/python3.11/dist-packages (from torch!=2.0.1,!=2.1.0,>=2.0.0->cltk) (1.13.1)\n",
            "Requirement already satisfied: mpmath<1.4,>=1.1.0 in /usr/local/lib/python3.11/dist-packages (from sympy==1.13.1->torch!=2.0.1,!=2.1.0,>=2.0.0->cltk) (1.3.0)\n",
            "Requirement already satisfied: smmap<6,>=3.0.1 in /usr/local/lib/python3.11/dist-packages (from gitdb<5,>=4.0.1->gitpython<4.0,>=3.0->cltk) (5.0.2)\n",
            "Requirement already satisfied: language-data>=1.2 in /usr/local/lib/python3.11/dist-packages (from langcodes<4.0.0,>=3.2.0->spacy==3.7.5->cltk) (1.3.0)\n",
            "Requirement already satisfied: annotated-types>=0.6.0 in /usr/local/lib/python3.11/dist-packages (from pydantic!=1.8,!=1.8.1,<3.0.0,>=1.7.4->spacy==3.7.5->cltk) (0.7.0)\n",
            "Requirement already satisfied: pydantic-core==2.33.2 in /usr/local/lib/python3.11/dist-packages (from pydantic!=1.8,!=1.8.1,<3.0.0,>=1.7.4->spacy==3.7.5->cltk) (2.33.2)\n",
            "Requirement already satisfied: typing-inspection>=0.4.0 in /usr/local/lib/python3.11/dist-packages (from pydantic!=1.8,!=1.8.1,<3.0.0,>=1.7.4->spacy==3.7.5->cltk) (0.4.1)\n",
            "Requirement already satisfied: wrapt in /usr/local/lib/python3.11/dist-packages (from smart-open>=1.8.1->gensim<5.0.0,>=4.3.2->cltk) (1.17.2)\n",
            "Requirement already satisfied: blis<0.8.0,>=0.7.8 in /usr/local/lib/python3.11/dist-packages (from thinc<8.3.0,>=8.2.2->spacy==3.7.5->cltk) (0.7.11)\n",
            "Requirement already satisfied: confection<1.0.0,>=0.0.1 in /usr/local/lib/python3.11/dist-packages (from thinc<8.3.0,>=8.2.2->spacy==3.7.5->cltk) (0.1.5)\n",
            "Requirement already satisfied: shellingham>=1.3.0 in /usr/local/lib/python3.11/dist-packages (from typer<1.0.0,>=0.3.0->spacy==3.7.5->cltk) (1.5.4)\n",
            "Requirement already satisfied: rich>=10.11.0 in /usr/local/lib/python3.11/dist-packages (from typer<1.0.0,>=0.3.0->spacy==3.7.5->cltk) (13.9.4)\n",
            "Requirement already satisfied: cloudpathlib<1.0.0,>=0.7.0 in /usr/local/lib/python3.11/dist-packages (from weasel<0.5.0,>=0.1.0->spacy==3.7.5->cltk) (0.21.1)\n",
            "Requirement already satisfied: MarkupSafe>=2.0 in /usr/local/lib/python3.11/dist-packages (from jinja2->spacy==3.7.5->cltk) (3.0.2)\n",
            "Requirement already satisfied: marisa-trie>=1.1.0 in /usr/local/lib/python3.11/dist-packages (from language-data>=1.2->langcodes<4.0.0,>=3.2.0->spacy==3.7.5->cltk) (1.2.1)\n",
            "Requirement already satisfied: markdown-it-py>=2.2.0 in /usr/local/lib/python3.11/dist-packages (from rich>=10.11.0->typer<1.0.0,>=0.3.0->spacy==3.7.5->cltk) (3.0.0)\n",
            "Requirement already satisfied: pygments<3.0.0,>=2.13.0 in /usr/local/lib/python3.11/dist-packages (from rich>=10.11.0->typer<1.0.0,>=0.3.0->spacy==3.7.5->cltk) (2.19.1)\n",
            "Requirement already satisfied: mdurl~=0.1 in /usr/local/lib/python3.11/dist-packages (from markdown-it-py>=2.2.0->rich>=10.11.0->typer<1.0.0,>=0.3.0->spacy==3.7.5->cltk) (0.1.2)\n"
          ]
        }
      ]
    },
    {
      "cell_type": "code",
      "source": [
        "import pandas as pd\n",
        "import spacy\n",
        "from collections import Counter\n",
        "import re\n",
        "from cltk.languages.example_texts import get_example_text\n",
        "from cltk.core.data_types import Pipeline\n",
        "from cltk import NLP"
      ],
      "metadata": {
        "id": "9H6oq8xobJcD"
      },
      "execution_count": 2,
      "outputs": []
    },
    {
      "cell_type": "code",
      "source": [
        "nlp_en = spacy.load(\"en_core_web_sm\")\n",
        "\n",
        "# Cargar CLTK para latín\n",
        "nlp_la = NLP(language=\"lat\", suppress_banner=True)\n",
        "\n",
        "# --- Funciones ---\n",
        "\n",
        "# Contar palabras y verbos en inglés\n",
        "def contar_palabras_y_verbos_ingles(textos):\n",
        "    palabras = []\n",
        "    verbos = []\n",
        "    for doc in nlp_en.pipe(textos, disable=[\"ner\"]):\n",
        "        for token in doc:\n",
        "            if token.is_alpha and not token.is_stop:\n",
        "                palabras.append(token.lemma_.lower())\n",
        "                if token.pos_ == \"VERB\":\n",
        "                    verbos.append(token.lemma_.lower())\n",
        "    return Counter(palabras), Counter(verbos)\n",
        "\n",
        "def contar_palabras_y_verbos_latin(textos):\n",
        "    palabras = []\n",
        "    verbos = []\n",
        "    for texto in textos:\n",
        "        doc = nlp_la.analyze(texto)\n",
        "        for word in doc.words:\n",
        "            # Obtener pos y lemma de forma segura\n",
        "            pos_str = str(word.pos).lower() if word.pos else \"\"\n",
        "            lemma_str = word.lemma.lower() if word.lemma else \"\"\n",
        "\n",
        "            # Filtrar solo palabras (sin símbolos, sin números)\n",
        "            if lemma_str.isalpha() and len(lemma_str) > 2:\n",
        "                if 'verb' in pos_str:\n",
        "                    verbos.append(lemma_str)\n",
        "                else:\n",
        "                    palabras.append(lemma_str)\n",
        "\n",
        "    return Counter(palabras), Counter(verbos)\n",
        "\n",
        "# --- Cargar datos ---\n",
        "latin = df[\"Latin\"].dropna().tolist()\n",
        "english = df[\"Translation\"].dropna().tolist()\n",
        "\n",
        "# --- Procesar textos ---\n",
        "palabras_latin, verbos_latin = contar_palabras_y_verbos_latin(latin)\n",
        "palabras_english, verbos_english = contar_palabras_y_verbos_ingles(english)\n",
        "\n",
        "# --- Mostrar resultados ---\n",
        "print(\"🔵 Top 10 palabras en LATÍN:\")\n",
        "print(palabras_latin.most_common(10))\n",
        "\n",
        "print(\"\\n🟣 Top 10 VERBOS en LATÍN:\")\n",
        "print(verbos_latin.most_common(10))\n",
        "\n",
        "print(\"\\n🟢 Top 10 palabras en INGLÉS:\")\n",
        "print(palabras_english.most_common(10))\n",
        "\n",
        "print(\"\\n🟠 Top 10 VERBOS en INGLÉS:\")\n",
        "print(verbos_english.most_common(10))"
      ],
      "metadata": {
        "colab": {
          "base_uri": "https://localhost:8080/"
        },
        "id": "7Wuv0mz9fBe0",
        "outputId": "d8a35640-d99a-46cc-ef54-9af7a4fc25c7"
      },
      "execution_count": 14,
      "outputs": [
        {
          "output_type": "stream",
          "name": "stdout",
          "text": [
            "Unrecognized UD feature 'Compound' with value 'Yes'.\n",
            "If you believe this is not an error in the dependency parser, please raise an issue at <https://github.com/cltk/cltk/issues> and include a short text to reproduce the error.\n",
            "\n",
            "Unrecognized UD feature 'Compound' with value 'Yes'.\n",
            "If you believe this is not an error in the dependency parser, please raise an issue at <https://github.com/cltk/cltk/issues> and include a short text to reproduce the error.\n",
            "\n",
            "Unrecognized UD feature 'Compound' with value 'Yes'.\n",
            "If you believe this is not an error in the dependency parser, please raise an issue at <https://github.com/cltk/cltk/issues> and include a short text to reproduce the error.\n",
            "\n",
            "Unrecognized UD feature 'Compound' with value 'Yes'.\n",
            "If you believe this is not an error in the dependency parser, please raise an issue at <https://github.com/cltk/cltk/issues> and include a short text to reproduce the error.\n",
            "\n",
            "Unrecognized UD feature 'Compound' with value 'Yes'.\n",
            "If you believe this is not an error in the dependency parser, please raise an issue at <https://github.com/cltk/cltk/issues> and include a short text to reproduce the error.\n",
            "\n",
            "Unrecognized UD feature 'Compound' with value 'Yes'.\n",
            "If you believe this is not an error in the dependency parser, please raise an issue at <https://github.com/cltk/cltk/issues> and include a short text to reproduce the error.\n",
            "\n",
            "Unrecognized UD feature 'Compound' with value 'Yes'.\n",
            "If you believe this is not an error in the dependency parser, please raise an issue at <https://github.com/cltk/cltk/issues> and include a short text to reproduce the error.\n",
            "\n",
            "Unrecognized UD feature 'Compound' with value 'Yes'.\n",
            "If you believe this is not an error in the dependency parser, please raise an issue at <https://github.com/cltk/cltk/issues> and include a short text to reproduce the error.\n",
            "\n",
            "Unrecognized UD feature 'Compound' with value 'Yes'.\n",
            "If you believe this is not an error in the dependency parser, please raise an issue at <https://github.com/cltk/cltk/issues> and include a short text to reproduce the error.\n",
            "\n",
            "Unrecognized UD feature 'Compound' with value 'Yes'.\n",
            "If you believe this is not an error in the dependency parser, please raise an issue at <https://github.com/cltk/cltk/issues> and include a short text to reproduce the error.\n",
            "\n",
            "Unrecognized UD feature 'Compound' with value 'Yes'.\n",
            "If you believe this is not an error in the dependency parser, please raise an issue at <https://github.com/cltk/cltk/issues> and include a short text to reproduce the error.\n",
            "\n",
            "Unrecognized UD feature 'Compound' with value 'Yes'.\n",
            "If you believe this is not an error in the dependency parser, please raise an issue at <https://github.com/cltk/cltk/issues> and include a short text to reproduce the error.\n",
            "\n",
            "Unrecognized UD feature 'Compound' with value 'Yes'.\n",
            "If you believe this is not an error in the dependency parser, please raise an issue at <https://github.com/cltk/cltk/issues> and include a short text to reproduce the error.\n",
            "\n",
            "Unrecognized UD feature 'Compound' with value 'Yes'.\n",
            "If you believe this is not an error in the dependency parser, please raise an issue at <https://github.com/cltk/cltk/issues> and include a short text to reproduce the error.\n",
            "\n",
            "Unrecognized UD feature 'Compound' with value 'Yes'.\n",
            "If you believe this is not an error in the dependency parser, please raise an issue at <https://github.com/cltk/cltk/issues> and include a short text to reproduce the error.\n",
            "\n",
            "Unrecognized UD feature 'Compound' with value 'Yes'.\n",
            "If you believe this is not an error in the dependency parser, please raise an issue at <https://github.com/cltk/cltk/issues> and include a short text to reproduce the error.\n",
            "\n",
            "Unrecognized UD feature 'Compound' with value 'Yes'.\n",
            "If you believe this is not an error in the dependency parser, please raise an issue at <https://github.com/cltk/cltk/issues> and include a short text to reproduce the error.\n",
            "\n",
            "Unrecognized UD feature 'Compound' with value 'Yes'.\n",
            "If you believe this is not an error in the dependency parser, please raise an issue at <https://github.com/cltk/cltk/issues> and include a short text to reproduce the error.\n",
            "\n",
            "Unrecognized UD feature 'Compound' with value 'Yes'.\n",
            "If you believe this is not an error in the dependency parser, please raise an issue at <https://github.com/cltk/cltk/issues> and include a short text to reproduce the error.\n",
            "\n",
            "Unrecognized UD feature 'Compound' with value 'Yes'.\n",
            "If you believe this is not an error in the dependency parser, please raise an issue at <https://github.com/cltk/cltk/issues> and include a short text to reproduce the error.\n",
            "\n",
            "Unrecognized UD feature 'Compound' with value 'Yes'.\n",
            "If you believe this is not an error in the dependency parser, please raise an issue at <https://github.com/cltk/cltk/issues> and include a short text to reproduce the error.\n",
            "\n",
            "Unrecognized UD feature 'Compound' with value 'Yes'.\n",
            "If you believe this is not an error in the dependency parser, please raise an issue at <https://github.com/cltk/cltk/issues> and include a short text to reproduce the error.\n",
            "\n",
            "Unrecognized UD feature 'Compound' with value 'Yes'.\n",
            "If you believe this is not an error in the dependency parser, please raise an issue at <https://github.com/cltk/cltk/issues> and include a short text to reproduce the error.\n",
            "\n",
            "Unrecognized UD feature 'Compound' with value 'Yes'.\n",
            "If you believe this is not an error in the dependency parser, please raise an issue at <https://github.com/cltk/cltk/issues> and include a short text to reproduce the error.\n",
            "\n",
            "Unrecognized UD feature 'Compound' with value 'Yes'.\n",
            "If you believe this is not an error in the dependency parser, please raise an issue at <https://github.com/cltk/cltk/issues> and include a short text to reproduce the error.\n",
            "\n",
            "Unrecognized UD feature 'Compound' with value 'Yes'.\n",
            "If you believe this is not an error in the dependency parser, please raise an issue at <https://github.com/cltk/cltk/issues> and include a short text to reproduce the error.\n",
            "\n",
            "Unrecognized UD feature 'Variant' with value 'Greek'.\n",
            "If you believe this is not an error in the dependency parser, please raise an issue at <https://github.com/cltk/cltk/issues> and include a short text to reproduce the error.\n",
            "\n",
            "Unrecognized UD feature 'Compound' with value 'Yes'.\n",
            "If you believe this is not an error in the dependency parser, please raise an issue at <https://github.com/cltk/cltk/issues> and include a short text to reproduce the error.\n",
            "\n",
            "Unrecognized UD feature 'Compound' with value 'Yes'.\n",
            "If you believe this is not an error in the dependency parser, please raise an issue at <https://github.com/cltk/cltk/issues> and include a short text to reproduce the error.\n",
            "\n",
            "Unrecognized UD feature 'Compound' with value 'Yes'.\n",
            "If you believe this is not an error in the dependency parser, please raise an issue at <https://github.com/cltk/cltk/issues> and include a short text to reproduce the error.\n",
            "\n",
            "Unrecognized UD feature 'Compound' with value 'Yes'.\n",
            "If you believe this is not an error in the dependency parser, please raise an issue at <https://github.com/cltk/cltk/issues> and include a short text to reproduce the error.\n",
            "\n",
            "Unrecognized UD feature 'Compound' with value 'Yes'.\n",
            "If you believe this is not an error in the dependency parser, please raise an issue at <https://github.com/cltk/cltk/issues> and include a short text to reproduce the error.\n",
            "\n",
            "Unrecognized UD feature 'Compound' with value 'Yes'.\n",
            "If you believe this is not an error in the dependency parser, please raise an issue at <https://github.com/cltk/cltk/issues> and include a short text to reproduce the error.\n",
            "\n",
            "Unrecognized UD feature 'Compound' with value 'Yes'.\n",
            "If you believe this is not an error in the dependency parser, please raise an issue at <https://github.com/cltk/cltk/issues> and include a short text to reproduce the error.\n",
            "\n",
            "Unrecognized UD feature 'Compound' with value 'Yes'.\n",
            "If you believe this is not an error in the dependency parser, please raise an issue at <https://github.com/cltk/cltk/issues> and include a short text to reproduce the error.\n",
            "\n",
            "Unrecognized UD feature 'Compound' with value 'Yes'.\n",
            "If you believe this is not an error in the dependency parser, please raise an issue at <https://github.com/cltk/cltk/issues> and include a short text to reproduce the error.\n",
            "\n",
            "Unrecognized UD feature 'Compound' with value 'Yes'.\n",
            "If you believe this is not an error in the dependency parser, please raise an issue at <https://github.com/cltk/cltk/issues> and include a short text to reproduce the error.\n",
            "\n",
            "Unrecognized UD feature 'Compound' with value 'Yes'.\n",
            "If you believe this is not an error in the dependency parser, please raise an issue at <https://github.com/cltk/cltk/issues> and include a short text to reproduce the error.\n",
            "\n",
            "Unrecognized UD feature 'Compound' with value 'Yes'.\n",
            "If you believe this is not an error in the dependency parser, please raise an issue at <https://github.com/cltk/cltk/issues> and include a short text to reproduce the error.\n",
            "\n",
            "Unrecognized UD feature 'Compound' with value 'Yes'.\n",
            "If you believe this is not an error in the dependency parser, please raise an issue at <https://github.com/cltk/cltk/issues> and include a short text to reproduce the error.\n",
            "\n",
            "Unrecognized UD feature 'Compound' with value 'Yes'.\n",
            "If you believe this is not an error in the dependency parser, please raise an issue at <https://github.com/cltk/cltk/issues> and include a short text to reproduce the error.\n",
            "\n",
            "Unrecognized UD feature 'Compound' with value 'Yes'.\n",
            "If you believe this is not an error in the dependency parser, please raise an issue at <https://github.com/cltk/cltk/issues> and include a short text to reproduce the error.\n",
            "\n",
            "Unrecognized UD feature 'Compound' with value 'Yes'.\n",
            "If you believe this is not an error in the dependency parser, please raise an issue at <https://github.com/cltk/cltk/issues> and include a short text to reproduce the error.\n",
            "\n",
            "Unrecognized UD feature 'Compound' with value 'Yes'.\n",
            "If you believe this is not an error in the dependency parser, please raise an issue at <https://github.com/cltk/cltk/issues> and include a short text to reproduce the error.\n",
            "\n",
            "Unrecognized UD feature 'Compound' with value 'Yes'.\n",
            "If you believe this is not an error in the dependency parser, please raise an issue at <https://github.com/cltk/cltk/issues> and include a short text to reproduce the error.\n",
            "\n",
            "Unrecognized UD feature 'Compound' with value 'Yes'.\n",
            "If you believe this is not an error in the dependency parser, please raise an issue at <https://github.com/cltk/cltk/issues> and include a short text to reproduce the error.\n",
            "\n",
            "Unrecognized UD feature 'Compound' with value 'Yes'.\n",
            "If you believe this is not an error in the dependency parser, please raise an issue at <https://github.com/cltk/cltk/issues> and include a short text to reproduce the error.\n",
            "\n",
            "Unrecognized UD feature 'Compound' with value 'Yes'.\n",
            "If you believe this is not an error in the dependency parser, please raise an issue at <https://github.com/cltk/cltk/issues> and include a short text to reproduce the error.\n",
            "\n",
            "Unrecognized UD feature 'Compound' with value 'Yes'.\n",
            "If you believe this is not an error in the dependency parser, please raise an issue at <https://github.com/cltk/cltk/issues> and include a short text to reproduce the error.\n",
            "\n",
            "Unrecognized UD feature 'Compound' with value 'Yes'.\n",
            "If you believe this is not an error in the dependency parser, please raise an issue at <https://github.com/cltk/cltk/issues> and include a short text to reproduce the error.\n",
            "\n",
            "Unrecognized UD feature 'Compound' with value 'Yes'.\n",
            "If you believe this is not an error in the dependency parser, please raise an issue at <https://github.com/cltk/cltk/issues> and include a short text to reproduce the error.\n",
            "\n",
            "Unrecognized UD feature 'Compound' with value 'Yes'.\n",
            "If you believe this is not an error in the dependency parser, please raise an issue at <https://github.com/cltk/cltk/issues> and include a short text to reproduce the error.\n",
            "\n",
            "Unrecognized UD feature 'Compound' with value 'Yes'.\n",
            "If you believe this is not an error in the dependency parser, please raise an issue at <https://github.com/cltk/cltk/issues> and include a short text to reproduce the error.\n",
            "\n",
            "Unrecognized UD feature 'Compound' with value 'Yes'.\n",
            "If you believe this is not an error in the dependency parser, please raise an issue at <https://github.com/cltk/cltk/issues> and include a short text to reproduce the error.\n",
            "\n",
            "Unrecognized UD feature 'Compound' with value 'Yes'.\n",
            "If you believe this is not an error in the dependency parser, please raise an issue at <https://github.com/cltk/cltk/issues> and include a short text to reproduce the error.\n",
            "\n",
            "Unrecognized UD feature 'Compound' with value 'Yes'.\n",
            "If you believe this is not an error in the dependency parser, please raise an issue at <https://github.com/cltk/cltk/issues> and include a short text to reproduce the error.\n",
            "\n",
            "Unrecognized UD feature 'Compound' with value 'Yes'.\n",
            "If you believe this is not an error in the dependency parser, please raise an issue at <https://github.com/cltk/cltk/issues> and include a short text to reproduce the error.\n",
            "\n",
            "Unrecognized UD feature 'Compound' with value 'Yes'.\n",
            "If you believe this is not an error in the dependency parser, please raise an issue at <https://github.com/cltk/cltk/issues> and include a short text to reproduce the error.\n",
            "\n",
            "Unrecognized UD feature 'Compound' with value 'Yes'.\n",
            "If you believe this is not an error in the dependency parser, please raise an issue at <https://github.com/cltk/cltk/issues> and include a short text to reproduce the error.\n",
            "\n",
            "Unrecognized UD feature 'Compound' with value 'Yes'.\n",
            "If you believe this is not an error in the dependency parser, please raise an issue at <https://github.com/cltk/cltk/issues> and include a short text to reproduce the error.\n",
            "\n",
            "Unrecognized UD feature 'Compound' with value 'Yes'.\n",
            "If you believe this is not an error in the dependency parser, please raise an issue at <https://github.com/cltk/cltk/issues> and include a short text to reproduce the error.\n",
            "\n",
            "Unrecognized UD feature 'Compound' with value 'Yes'.\n",
            "If you believe this is not an error in the dependency parser, please raise an issue at <https://github.com/cltk/cltk/issues> and include a short text to reproduce the error.\n",
            "\n",
            "Unrecognized UD feature 'Compound' with value 'Yes'.\n",
            "If you believe this is not an error in the dependency parser, please raise an issue at <https://github.com/cltk/cltk/issues> and include a short text to reproduce the error.\n",
            "\n",
            "Unrecognized UD feature 'Compound' with value 'Yes'.\n",
            "If you believe this is not an error in the dependency parser, please raise an issue at <https://github.com/cltk/cltk/issues> and include a short text to reproduce the error.\n",
            "\n",
            "Unrecognized UD feature 'Compound' with value 'Yes'.\n",
            "If you believe this is not an error in the dependency parser, please raise an issue at <https://github.com/cltk/cltk/issues> and include a short text to reproduce the error.\n",
            "\n",
            "Unrecognized UD feature 'Compound' with value 'Yes'.\n",
            "If you believe this is not an error in the dependency parser, please raise an issue at <https://github.com/cltk/cltk/issues> and include a short text to reproduce the error.\n",
            "\n",
            "Unrecognized UD feature 'Compound' with value 'Yes'.\n",
            "If you believe this is not an error in the dependency parser, please raise an issue at <https://github.com/cltk/cltk/issues> and include a short text to reproduce the error.\n",
            "\n",
            "🔵 Top 10 palabras en LATÍN:\n",
            "[('sum', 216), ('non', 173), ('qui', 99), ('deus', 96), ('omnis', 84), ('lex', 64), ('veritas', 55), ('pro', 53), ('per', 48), ('res', 44)]\n",
            "\n",
            "🟣 Top 10 VERBOS en LATÍN:\n",
            "[('facio', 55), ('semper', 33), ('morior', 25), ('possum', 24), ('ago', 24), ('sic', 23), ('vinco', 22), ('bene', 19), ('dico', 19), ('fio', 19)]\n",
            "\n",
            "🟢 Top 10 palabras en INGLÉS:\n",
            "[('god', 103), ('law', 88), ('thing', 86), ('truth', 62), ('light', 47), ('man', 46), ('let', 44), ('life', 41), ('peace', 41), ('good', 40)]\n",
            "\n",
            "🟠 Top 10 VERBOS en INGLÉS:\n",
            "[('let', 44), ('know', 32), ('die', 25), ('live', 22), ('learn', 18), ('bear', 17), ('come', 16), ('lead', 15), ('seek', 13), ('grow', 13)]\n"
          ]
        }
      ]
    },
    {
      "cell_type": "code",
      "source": [
        "!pip uninstall googletrans\n",
        "!pip install googletrans==4.0.0-rc1"
      ],
      "metadata": {
        "collapsed": true,
        "colab": {
          "base_uri": "https://localhost:8080/"
        },
        "id": "zIl6aLXK5Cde",
        "outputId": "88e3d130-7117-4414-f7f6-11fab5a763ea"
      },
      "execution_count": 26,
      "outputs": [
        {
          "output_type": "stream",
          "name": "stdout",
          "text": [
            "Found existing installation: googletrans 4.0.0rc1\n",
            "Uninstalling googletrans-4.0.0rc1:\n",
            "  Would remove:\n",
            "    /usr/local/bin/translate\n",
            "    /usr/local/lib/python3.11/dist-packages/googletrans-4.0.0rc1.dist-info/*\n",
            "    /usr/local/lib/python3.11/dist-packages/googletrans/*\n",
            "Proceed (Y/n)? y\n",
            "  Successfully uninstalled googletrans-4.0.0rc1\n",
            "Collecting googletrans==4.0.0-rc1\n",
            "  Using cached googletrans-4.0.0rc1-py3-none-any.whl\n",
            "Requirement already satisfied: httpx==0.13.3 in /usr/local/lib/python3.11/dist-packages (from googletrans==4.0.0-rc1) (0.13.3)\n",
            "Requirement already satisfied: certifi in /usr/local/lib/python3.11/dist-packages (from httpx==0.13.3->googletrans==4.0.0-rc1) (2025.4.26)\n",
            "Requirement already satisfied: hstspreload in /usr/local/lib/python3.11/dist-packages (from httpx==0.13.3->googletrans==4.0.0-rc1) (2025.1.1)\n",
            "Requirement already satisfied: sniffio in /usr/local/lib/python3.11/dist-packages (from httpx==0.13.3->googletrans==4.0.0-rc1) (1.3.1)\n",
            "Requirement already satisfied: chardet==3.* in /usr/local/lib/python3.11/dist-packages (from httpx==0.13.3->googletrans==4.0.0-rc1) (3.0.4)\n",
            "Requirement already satisfied: idna==2.* in /usr/local/lib/python3.11/dist-packages (from httpx==0.13.3->googletrans==4.0.0-rc1) (2.10)\n",
            "Requirement already satisfied: rfc3986<2,>=1.3 in /usr/local/lib/python3.11/dist-packages (from httpx==0.13.3->googletrans==4.0.0-rc1) (1.5.0)\n",
            "Requirement already satisfied: httpcore==0.9.* in /usr/local/lib/python3.11/dist-packages (from httpx==0.13.3->googletrans==4.0.0-rc1) (0.9.1)\n",
            "Requirement already satisfied: h11<0.10,>=0.8 in /usr/local/lib/python3.11/dist-packages (from httpcore==0.9.*->httpx==0.13.3->googletrans==4.0.0-rc1) (0.9.0)\n",
            "Requirement already satisfied: h2==3.* in /usr/local/lib/python3.11/dist-packages (from httpcore==0.9.*->httpx==0.13.3->googletrans==4.0.0-rc1) (3.2.0)\n",
            "Requirement already satisfied: hyperframe<6,>=5.2.0 in /usr/local/lib/python3.11/dist-packages (from h2==3.*->httpcore==0.9.*->httpx==0.13.3->googletrans==4.0.0-rc1) (5.2.0)\n",
            "Requirement already satisfied: hpack<4,>=3.0 in /usr/local/lib/python3.11/dist-packages (from h2==3.*->httpcore==0.9.*->httpx==0.13.3->googletrans==4.0.0-rc1) (3.0.0)\n",
            "Installing collected packages: googletrans\n",
            "Successfully installed googletrans-4.0.0rc1\n"
          ]
        }
      ]
    },
    {
      "cell_type": "code",
      "source": [
        "!pip install deep-translator"
      ],
      "metadata": {
        "collapsed": true,
        "colab": {
          "base_uri": "https://localhost:8080/"
        },
        "id": "HzV3bs625tS1",
        "outputId": "b212373f-5e60-4adb-b5a6-aadcb3d6b59a"
      },
      "execution_count": 28,
      "outputs": [
        {
          "output_type": "stream",
          "name": "stdout",
          "text": [
            "Collecting deep-translator\n",
            "  Downloading deep_translator-1.11.4-py3-none-any.whl.metadata (30 kB)\n",
            "Requirement already satisfied: beautifulsoup4<5.0.0,>=4.9.1 in /usr/local/lib/python3.11/dist-packages (from deep-translator) (4.13.4)\n",
            "Requirement already satisfied: requests<3.0.0,>=2.23.0 in /usr/local/lib/python3.11/dist-packages (from deep-translator) (2.32.3)\n",
            "Requirement already satisfied: soupsieve>1.2 in /usr/local/lib/python3.11/dist-packages (from beautifulsoup4<5.0.0,>=4.9.1->deep-translator) (2.7)\n",
            "Requirement already satisfied: typing-extensions>=4.0.0 in /usr/local/lib/python3.11/dist-packages (from beautifulsoup4<5.0.0,>=4.9.1->deep-translator) (4.13.2)\n",
            "Requirement already satisfied: charset-normalizer<4,>=2 in /usr/local/lib/python3.11/dist-packages (from requests<3.0.0,>=2.23.0->deep-translator) (3.4.2)\n",
            "Requirement already satisfied: idna<4,>=2.5 in /usr/local/lib/python3.11/dist-packages (from requests<3.0.0,>=2.23.0->deep-translator) (2.10)\n",
            "Requirement already satisfied: urllib3<3,>=1.21.1 in /usr/local/lib/python3.11/dist-packages (from requests<3.0.0,>=2.23.0->deep-translator) (2.4.0)\n",
            "Requirement already satisfied: certifi>=2017.4.17 in /usr/local/lib/python3.11/dist-packages (from requests<3.0.0,>=2.23.0->deep-translator) (2025.4.26)\n",
            "Downloading deep_translator-1.11.4-py3-none-any.whl (42 kB)\n",
            "\u001b[2K   \u001b[90m━━━━━━━━━━━━━━━━━━━━━━━━━━━━━━━━━━━━━━━━\u001b[0m \u001b[32m42.3/42.3 kB\u001b[0m \u001b[31m1.7 MB/s\u001b[0m eta \u001b[36m0:00:00\u001b[0m\n",
            "\u001b[?25hInstalling collected packages: deep-translator\n",
            "Successfully installed deep-translator-1.11.4\n"
          ]
        }
      ]
    },
    {
      "cell_type": "code",
      "source": [
        "!pip uninstall -y googletrans\n",
        "!pip install googletrans==4.0.0-rc1\n",
        "!pip install deep-translator"
      ],
      "metadata": {
        "colab": {
          "base_uri": "https://localhost:8080/"
        },
        "id": "2wBg2_DB55Mq",
        "outputId": "07ac3b2d-8f05-4818-c4bc-ff93bc446101"
      },
      "execution_count": 31,
      "outputs": [
        {
          "output_type": "stream",
          "name": "stdout",
          "text": [
            "Found existing installation: googletrans 4.0.0rc1\n",
            "Uninstalling googletrans-4.0.0rc1:\n",
            "  Successfully uninstalled googletrans-4.0.0rc1\n",
            "Collecting googletrans==4.0.0-rc1\n",
            "  Using cached googletrans-4.0.0rc1-py3-none-any.whl\n",
            "Requirement already satisfied: httpx==0.13.3 in /usr/local/lib/python3.11/dist-packages (from googletrans==4.0.0-rc1) (0.13.3)\n",
            "Requirement already satisfied: certifi in /usr/local/lib/python3.11/dist-packages (from httpx==0.13.3->googletrans==4.0.0-rc1) (2025.4.26)\n",
            "Requirement already satisfied: hstspreload in /usr/local/lib/python3.11/dist-packages (from httpx==0.13.3->googletrans==4.0.0-rc1) (2025.1.1)\n",
            "Requirement already satisfied: sniffio in /usr/local/lib/python3.11/dist-packages (from httpx==0.13.3->googletrans==4.0.0-rc1) (1.3.1)\n",
            "Requirement already satisfied: chardet==3.* in /usr/local/lib/python3.11/dist-packages (from httpx==0.13.3->googletrans==4.0.0-rc1) (3.0.4)\n",
            "Requirement already satisfied: idna==2.* in /usr/local/lib/python3.11/dist-packages (from httpx==0.13.3->googletrans==4.0.0-rc1) (2.10)\n",
            "Requirement already satisfied: rfc3986<2,>=1.3 in /usr/local/lib/python3.11/dist-packages (from httpx==0.13.3->googletrans==4.0.0-rc1) (1.5.0)\n",
            "Requirement already satisfied: httpcore==0.9.* in /usr/local/lib/python3.11/dist-packages (from httpx==0.13.3->googletrans==4.0.0-rc1) (0.9.1)\n",
            "Requirement already satisfied: h11<0.10,>=0.8 in /usr/local/lib/python3.11/dist-packages (from httpcore==0.9.*->httpx==0.13.3->googletrans==4.0.0-rc1) (0.9.0)\n",
            "Requirement already satisfied: h2==3.* in /usr/local/lib/python3.11/dist-packages (from httpcore==0.9.*->httpx==0.13.3->googletrans==4.0.0-rc1) (3.2.0)\n",
            "Requirement already satisfied: hyperframe<6,>=5.2.0 in /usr/local/lib/python3.11/dist-packages (from h2==3.*->httpcore==0.9.*->httpx==0.13.3->googletrans==4.0.0-rc1) (5.2.0)\n",
            "Requirement already satisfied: hpack<4,>=3.0 in /usr/local/lib/python3.11/dist-packages (from h2==3.*->httpcore==0.9.*->httpx==0.13.3->googletrans==4.0.0-rc1) (3.0.0)\n",
            "Installing collected packages: googletrans\n",
            "Successfully installed googletrans-4.0.0rc1\n",
            "Requirement already satisfied: deep-translator in /usr/local/lib/python3.11/dist-packages (1.11.4)\n",
            "Requirement already satisfied: beautifulsoup4<5.0.0,>=4.9.1 in /usr/local/lib/python3.11/dist-packages (from deep-translator) (4.13.4)\n",
            "Requirement already satisfied: requests<3.0.0,>=2.23.0 in /usr/local/lib/python3.11/dist-packages (from deep-translator) (2.32.3)\n",
            "Requirement already satisfied: soupsieve>1.2 in /usr/local/lib/python3.11/dist-packages (from beautifulsoup4<5.0.0,>=4.9.1->deep-translator) (2.7)\n",
            "Requirement already satisfied: typing-extensions>=4.0.0 in /usr/local/lib/python3.11/dist-packages (from beautifulsoup4<5.0.0,>=4.9.1->deep-translator) (4.13.2)\n",
            "Requirement already satisfied: charset-normalizer<4,>=2 in /usr/local/lib/python3.11/dist-packages (from requests<3.0.0,>=2.23.0->deep-translator) (3.4.2)\n",
            "Requirement already satisfied: idna<4,>=2.5 in /usr/local/lib/python3.11/dist-packages (from requests<3.0.0,>=2.23.0->deep-translator) (2.10)\n",
            "Requirement already satisfied: urllib3<3,>=1.21.1 in /usr/local/lib/python3.11/dist-packages (from requests<3.0.0,>=2.23.0->deep-translator) (2.4.0)\n",
            "Requirement already satisfied: certifi>=2017.4.17 in /usr/local/lib/python3.11/dist-packages (from requests<3.0.0,>=2.23.0->deep-translator) (2025.4.26)\n"
          ]
        }
      ]
    },
    {
      "cell_type": "code",
      "source": [
        "# Instalar transformers si no está instalado\n",
        "!pip install -q transformers\n",
        "!pip install -q deep-translator"
      ],
      "metadata": {
        "id": "TQ2jLaK679QG"
      },
      "execution_count": 41,
      "outputs": []
    },
    {
      "cell_type": "code",
      "source": [
        "from transformers import pipeline\n",
        "from deep_translator import GoogleTranslator\n",
        "from collections import Counter\n",
        "from random import choice\n",
        "\n",
        "# Usar todas las palabras (sin top 10)\n",
        "todas_palabras = list(set(palabras_latin + palabras_english))\n",
        "todos_verbos = list(set(verbos_latin + verbos_english))\n",
        "\n",
        "# Función para traducir\n",
        "def traducir(palabra):\n",
        "    try:\n",
        "        return GoogleTranslator(source='auto', target='es').translate(palabra)\n",
        "    except Exception:\n",
        "        return palabra  # En caso de error, usar palabra original\n",
        "\n",
        "# Traducir todas las palabras y verbos\n",
        "traducciones_palabras = [traducir(p) for p in todas_palabras]\n",
        "traducciones_verbos = [traducir(v) for v in todos_verbos]\n",
        "\n",
        "\n",
        "# ✅ Cargar un generador de texto en español\n",
        "generador = pipeline(\"text-generation\", model=\"datificate/gpt2-small-spanish\")\n",
        "\n",
        "# ✅ Crear 5 prompts y generar oraciones con IA\n",
        "oraciones = []\n",
        "for _ in range(5):\n",
        "    sust1 = choice(traducciones_palabras)\n",
        "    sust2 = choice(traducciones_palabras)\n",
        "    verbo = choice(traducciones_verbos)\n",
        "    prompt = f\"En la vida, cuando uno desea {verbo} la {sust1} y la {sust2},\"\n",
        "    resultado = generador(prompt, max_new_tokens=30, do_sample=True, temperature=0.9)[0]['generated_text']\n",
        "    oraciones.append(resultado.strip())\n",
        "\n",
        "# Mostrar resultados\n",
        "print(\"\\n📜 Oraciones generadas con IA:\\n\")\n",
        "for i, o in enumerate(oraciones, 1):\n",
        "    print(f\"{i}. {o}\")"
      ],
      "metadata": {
        "colab": {
          "base_uri": "https://localhost:8080/"
        },
        "id": "uUxEP__I4-T5",
        "outputId": "a419ec1e-dd27-4220-94c3-e81c9ac94538"
      },
      "execution_count": 42,
      "outputs": [
        {
          "output_type": "stream",
          "name": "stderr",
          "text": [
            "Device set to use cpu\n"
          ]
        },
        {
          "output_type": "stream",
          "name": "stdout",
          "text": [
            "\n",
            "📜 Oraciones generadas con IA:\n",
            "\n",
            "1. En la vida, cuando uno desea oso la verdad y la OMS, hay cuatro objetivos a alcanzar: \n",
            "\n",
            "\n",
            "\n",
            "Los objetivos son:\n",
            "\n",
            "Los métodos de los que se ha aplicado el Método de la Medicina\n",
            "2. En la vida, cuando uno desea crecer la todo y la por, a la vez se pone a escribir un libro y también se pone a escribir a una chica. \n",
            "\n",
            "Al final de la historia, y a partir\n",
            "3. En la vida, cuando uno desea fio la luz y la dejar, es un acto de servicio. En los siglos XIX y XX, el padre (o \"referendor\") de la familia fue el médico militar\n",
            "4. En la vida, cuando uno desea Vincas la Deus y la hombre, que en la mayoría de ocasiones son mujeres, a menudo no se les permite tomar el nombre de \"Maestro de Vincas\", y por supuesto lo\n",
            "5. En la vida, cuando uno desea morir la lex y la luz, se da un tiempo de sueño y la luz se pone en una lámpara. Una mujer, en un departamento, que vive cerca de los jardines de la\n"
          ]
        }
      ]
    },
    {
      "cell_type": "code",
      "source": [],
      "metadata": {
        "id": "_-nEYF_K--mA"
      },
      "execution_count": null,
      "outputs": []
    }
  ]
}